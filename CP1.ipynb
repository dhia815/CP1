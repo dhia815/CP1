{
 "cells": [
  {
   "cell_type": "code",
   "execution_count": null,
   "id": "2b66a16f",
   "metadata": {},
   "outputs": [],
   "source": [
    "# Question 1 \n",
    "first_name = input(\"first name : \")\n",
    "last_name = input (\"last name : \")\n",
    "print(last_name, first_name)"
   ]
  },
  {
   "cell_type": "code",
   "execution_count": null,
   "id": "415825b6",
   "metadata": {},
   "outputs": [],
   "source": [
    "# Question 2\n",
    "n = int(input(\"n = \"))\n",
    "result = n*3 + n*10*2 + n*100\n",
    "print(\"n + nn + nnn =\", result)"
   ]
  },
  {
   "cell_type": "code",
   "execution_count": null,
   "id": "1d74c0c6",
   "metadata": {},
   "outputs": [],
   "source": [
    "# Question 3\n",
    "n = int(input(\"Please write a number to find whether it's even or odd : \"))\n",
    "if n % 2 == 0 :\n",
    "    print(\"the number \" + str(n) + \" is even\")\n",
    "else :\n",
    "    print(\"the number\", n ,\"is odd\")"
   ]
  },
  {
   "cell_type": "code",
   "execution_count": null,
   "id": "c7a60259",
   "metadata": {},
   "outputs": [],
   "source": [
    "# Question 4\n",
    "result = \"The numbers which are divisible by 7 but are not a multiple of 5, between 2000 and 3200 are \"\n",
    "for i in range (2000,3201):\n",
    "    if i % 7 == 0 and i % 5 != 0:\n",
    "        result += str(i) + \", \"\n",
    "print(result)"
   ]
  },
  {
   "cell_type": "code",
   "execution_count": 36,
   "id": "860222ff",
   "metadata": {},
   "outputs": [
    {
     "name": "stdout",
     "output_type": "stream",
     "text": [
      "Please write a number so that the program can compute the factorial of it : 5\n",
      "5 ! = 120\n"
     ]
    }
   ],
   "source": [
    "# Question 5\n",
    "n = int(input(\"Please write a number so that the program can compute the factorial of it : \"))\n",
    "result = 1\n",
    "for i in range(n+1):\n",
    "    if i != 0 :\n",
    "        result *= i\n",
    "print(n,\"! =\",result)"
   ]
  },
  {
   "cell_type": "code",
   "execution_count": null,
   "id": "79aa3be0",
   "metadata": {},
   "outputs": [],
   "source": [
    "# Question 6\n",
    "text = input(\"Please write some text so that the program remove the characters which have odd index values of it : \")\n",
    "index_number = 0\n",
    "result = \"\"\n",
    "while index_number < len(text):\n",
    "    if index_number % 2 == 0:\n",
    "        result += text[index_number]\n",
    "    index_number += 1\n",
    "print (\"the result is\", result)"
   ]
  },
  {
   "cell_type": "code",
   "execution_count": null,
   "id": "a9b4177e",
   "metadata": {},
   "outputs": [],
   "source": [
    "# Question 7\n",
    "price = float(input(\"price : \"))\n",
    "if price >= 500 :\n",
    "    print(\"the price after 50% discount is\",price/2)\n",
    "elif price < 500 and price >= 200:\n",
    "    print(\"the price after 30% discount is\",price*7/10)\n",
    "elif price < 200 and price > 0:\n",
    "    print(\"the price after 10% discount is\",price*9/10)\n",
    "else:\n",
    "    print(\"We can't accept a 0 or negative number as a price !!\")"
   ]
  },
  {
   "cell_type": "code",
   "execution_count": null,
   "id": "946af956",
   "metadata": {},
   "outputs": [],
   "source": []
  }
 ],
 "metadata": {
  "kernelspec": {
   "display_name": "Python 3",
   "language": "python",
   "name": "python3"
  },
  "language_info": {
   "codemirror_mode": {
    "name": "ipython",
    "version": 3
   },
   "file_extension": ".py",
   "mimetype": "text/x-python",
   "name": "python",
   "nbconvert_exporter": "python",
   "pygments_lexer": "ipython3",
   "version": "3.8.8"
  }
 },
 "nbformat": 4,
 "nbformat_minor": 5
}
